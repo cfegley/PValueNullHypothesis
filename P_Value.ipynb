{
 "cells": [
  {
   "cell_type": "code",
   "execution_count": 5,
   "id": "9317c5d2",
   "metadata": {},
   "outputs": [],
   "source": [
    "import numpy as np\n",
    "import matplotlib.pyplot as plt\n",
    "from scipy.stats import ttest_ind"
   ]
  },
  {
   "cell_type": "code",
   "execution_count": 6,
   "id": "4da1a99b",
   "metadata": {},
   "outputs": [],
   "source": [
    "#Function to compute p-value\n",
    "def pvalue(x0, x1):\n",
    "    \n",
    "    #Call the ttest_ind function to compute p values\n",
    "    _, p = ttest_ind(x0, x1, equal_var = False)\n",
    "    \n",
    "    #Return the p value\n",
    "    return p"
   ]
  },
  {
   "cell_type": "code",
   "execution_count": 7,
   "id": "f7a04e42",
   "metadata": {},
   "outputs": [
    {
     "name": "stdout",
     "output_type": "stream",
     "text": [
      "The p-value for the null hypothesis that x0 and x1 are pulled from a distribution with the same mean is p = 0.1446.\n"
     ]
    },
    {
     "data": {
      "image/png": "[encoded data removed]",
      "text/plain": [
       "<Figure size 504x504 with 1 Axes>"
      ]
     },
     "metadata": {
      "needs_background": "light"
     },
     "output_type": "display_data"
    }
   ],
   "source": [
    "#Number of samples\n",
    "nsamples = 100\n",
    "\n",
    "#First set of random variates\n",
    "x0 = np.random.normal(loc = 0., scale = 1.0, size = nsamples)\n",
    "\n",
    "#Second set of random variates\n",
    "x1 = np.random.normal(loc = 0., scale = 1.0, size = nsamples)\n",
    "\n",
    "#Create 2 histograms\n",
    "f, ax = plt.subplots(1, 1, figsize = (7,7))\n",
    "ax.xaxis.set_tick_params(which = \"both\", direction = \"in\")\n",
    "ax.yaxis.set_tick_params(which = \"both\", direction = \"in\")\n",
    "ax.hist(x0, bins = 10, alpha = 0.5, label = \"Set A\")\n",
    "ax.hist(x1, bins = 10, alpha = 0.5, label = \"Set B\")\n",
    "plt.legend(frameon = False)\n",
    "\n",
    "#Compute p value\n",
    "p = pvalue(x0, x1)\n",
    "\n",
    "print(f\"The p-value for the null hypothesis that x0 and x1 are pulled from a distribution with the same mean is p = {p:5.4f}.\")"
   ]
  },
  {
   "cell_type": "code",
   "execution_count": null,
   "id": "b3831136",
   "metadata": {},
   "outputs": [],
   "source": []
  },
  {
   "cell_type": "code",
   "execution_count": null,
   "id": "be4c484f",
   "metadata": {},
   "outputs": [],
   "source": []
  }
 ],
 "metadata": {
  "kernelspec": {
   "display_name": "Python 3 (ipykernel)",
   "language": "python",
   "name": "python3"
  },
  "language_info": {
   "codemirror_mode": {
    "name": "ipython",
    "version": 3
   },
   "file_extension": ".py",
   "mimetype": "text/x-python",
   "name": "python",
   "nbconvert_exporter": "python",
   "pygments_lexer": "ipython3",
   "version": "3.10.4"
  }
 },
 "nbformat": 4,
 "nbformat_minor": 5
}
